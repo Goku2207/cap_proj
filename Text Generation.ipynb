{
 "cells": [
  {
   "cell_type": "code",
   "execution_count": 3,
   "metadata": {},
   "outputs": [
    {
     "name": "stdout",
     "output_type": "stream",
     "text": [
      "Requirement already satisfied: tensorflow in /mnt/disks/user/anaconda3/lib/python3.7/site-packages (1.13.1)\n",
      "Requirement already satisfied: six>=1.10.0 in /mnt/disks/user/anaconda3/lib/python3.7/site-packages (from tensorflow) (1.12.0)\n",
      "Requirement already satisfied: grpcio>=1.8.6 in /mnt/disks/user/anaconda3/lib/python3.7/site-packages (from tensorflow) (1.22.0)\n",
      "Requirement already satisfied: gast>=0.2.0 in /mnt/disks/user/anaconda3/lib/python3.7/site-packages (from tensorflow) (0.2.2)\n",
      "Requirement already satisfied: numpy>=1.13.3 in /mnt/disks/user/anaconda3/lib/python3.7/site-packages (from tensorflow) (1.16.1)\n",
      "Requirement already satisfied: tensorboard<1.14.0,>=1.13.0 in /mnt/disks/user/anaconda3/lib/python3.7/site-packages (from tensorflow) (1.13.1)\n",
      "Requirement already satisfied: tensorflow-estimator<1.14.0rc0,>=1.13.0 in /mnt/disks/user/anaconda3/lib/python3.7/site-packages (from tensorflow) (1.13.0)\n",
      "Requirement already satisfied: wheel>=0.26 in /mnt/disks/user/anaconda3/lib/python3.7/site-packages (from tensorflow) (0.33.1)\n",
      "Requirement already satisfied: absl-py>=0.1.6 in /mnt/disks/user/anaconda3/lib/python3.7/site-packages (from tensorflow) (0.7.1)\n",
      "Requirement already satisfied: termcolor>=1.1.0 in /mnt/disks/user/anaconda3/lib/python3.7/site-packages (from tensorflow) (1.1.0)\n",
      "Requirement already satisfied: protobuf>=3.6.1 in /mnt/disks/user/anaconda3/lib/python3.7/site-packages (from tensorflow) (3.9.1)\n",
      "Requirement already satisfied: keras-preprocessing>=1.0.5 in /mnt/disks/user/anaconda3/lib/python3.7/site-packages (from tensorflow) (1.1.0)\n",
      "Requirement already satisfied: keras-applications>=1.0.6 in /mnt/disks/user/anaconda3/lib/python3.7/site-packages (from tensorflow) (1.0.8)\n",
      "Requirement already satisfied: astor>=0.6.0 in /mnt/disks/user/anaconda3/lib/python3.7/site-packages (from tensorflow) (0.8.0)\n",
      "Requirement already satisfied: markdown>=2.6.8 in /mnt/disks/user/anaconda3/lib/python3.7/site-packages (from tensorboard<1.14.0,>=1.13.0->tensorflow) (3.1.1)\n",
      "Requirement already satisfied: werkzeug>=0.11.15 in /mnt/disks/user/anaconda3/lib/python3.7/site-packages (from tensorboard<1.14.0,>=1.13.0->tensorflow) (0.14.1)\n",
      "Requirement already satisfied: mock>=2.0.0 in /mnt/disks/user/anaconda3/lib/python3.7/site-packages (from tensorflow-estimator<1.14.0rc0,>=1.13.0->tensorflow) (3.0.5)\n",
      "Requirement already satisfied: setuptools in /mnt/disks/user/anaconda3/lib/python3.7/site-packages (from protobuf>=3.6.1->tensorflow) (41.1.0)\n",
      "Requirement already satisfied: h5py in /mnt/disks/user/anaconda3/lib/python3.7/site-packages (from keras-applications>=1.0.6->tensorflow) (2.9.0)\n"
     ]
    }
   ],
   "source": [
    "!pip install tensorflow"
   ]
  },
  {
   "cell_type": "code",
   "execution_count": 4,
   "metadata": {},
   "outputs": [
    {
     "name": "stderr",
     "output_type": "stream",
     "text": [
      "[nltk_data] Downloading package stopwords to /root/nltk_data...\n",
      "[nltk_data]   Unzipping corpora/stopwords.zip.\n",
      "Using TensorFlow backend.\n"
     ]
    }
   ],
   "source": [
    "import numpy as np\n",
    "import sys\n",
    "import nltk\n",
    "nltk.download('stopwords')\n",
    "from nltk.tokenize import RegexpTokenizer\n",
    "from nltk.corpus import stopwords\n",
    "from keras.models import Sequential\n",
    "from keras.layers import Dense,Dropout, LSTM\n",
    "from keras.utils import np_utils\n",
    "from keras.callbacks import ModelCheckpoint"
   ]
  },
  {
   "cell_type": "code",
   "execution_count": 5,
   "metadata": {},
   "outputs": [],
   "source": [
    "#load data\n",
    "file=open(\"frankenstein.txt\").read()"
   ]
  },
  {
   "cell_type": "code",
   "execution_count": 6,
   "metadata": {},
   "outputs": [],
   "source": [
    "#tokenize and standardize\n",
    "def tok_words(input):\n",
    "    input=input.lower()\n",
    "    tokenizer=RegexpTokenizer(r'\\w+')\n",
    "    tokens=tokenizer.tokenize(input)\n",
    "    fil=filter(lambda token:token not in stopwords.words('english'),tokens)\n",
    "    return \"\".join(fil)\n",
    "processed_inputs=tok_words(file)\n",
    " "
   ]
  },
  {
   "cell_type": "code",
   "execution_count": 7,
   "metadata": {},
   "outputs": [],
   "source": [
    "#char to number\n",
    "chars=sorted(list(set(processed_inputs)))\n",
    "c_to_n=dict((c,i) for i,c in enumerate(chars))"
   ]
  },
  {
   "cell_type": "code",
   "execution_count": 8,
   "metadata": {},
   "outputs": [
    {
     "name": "stdout",
     "output_type": "stream",
     "text": [
      "Total number of characters:  220850\n",
      "Total vocab:  41\n"
     ]
    }
   ],
   "source": [
    "input_len=len(processed_inputs)\n",
    "vocab_len=len(chars)\n",
    "print(\"Total number of characters: \",input_len)\n",
    "print(\"Total vocab: \",vocab_len)"
   ]
  },
  {
   "cell_type": "code",
   "execution_count": 9,
   "metadata": {},
   "outputs": [],
   "source": [
    "#seq length\n",
    "seq_len=100\n",
    "x_data=[]\n",
    "y_data=[]"
   ]
  },
  {
   "cell_type": "code",
   "execution_count": 10,
   "metadata": {},
   "outputs": [
    {
     "name": "stdout",
     "output_type": "stream",
     "text": [
      "Total Patterns:  220750\n"
     ]
    }
   ],
   "source": [
    "#loop through sequence\n",
    "for i in range(0, input_len-seq_len, 1):\n",
    "    in_seq=processed_inputs[i:i + seq_len]\n",
    "    out_seq=processed_inputs[i + seq_len]\n",
    "    x_data.append([c_to_n[char] for char in in_seq])\n",
    "    y_data.append(c_to_n[out_seq])\n",
    "    \n",
    "n_patterns=len(x_data)\n",
    "print(\"Total Patterns: \",n_patterns)"
   ]
  },
  {
   "cell_type": "code",
   "execution_count": 11,
   "metadata": {},
   "outputs": [],
   "source": [
    "#input sequence to np array\n",
    "X=np.reshape(x_data,(n_patterns,seq_len,1))\n",
    "X=X/float(vocab_len)"
   ]
  },
  {
   "cell_type": "code",
   "execution_count": 12,
   "metadata": {},
   "outputs": [],
   "source": [
    "#one-hot encoding\n",
    "y=np_utils.to_categorical(y_data)"
   ]
  },
  {
   "cell_type": "code",
   "execution_count": 14,
   "metadata": {},
   "outputs": [],
   "source": [
    "#create model\n",
    "model=Sequential()\n",
    "model.add(LSTM(256,input_shape=(X.shape[1],X.shape[2]),return_sequences=True))\n",
    "model.add(Dropout(0.2))\n",
    "model.add(LSTM(256,return_sequences=True))\n",
    "model.add(Dropout(0.2))\n",
    "model.add(LSTM(128))\n",
    "model.add(Dropout(0.2))\n",
    "model.add(Dense(y.shape[1], activation='softmax'))"
   ]
  },
  {
   "cell_type": "code",
   "execution_count": 16,
   "metadata": {},
   "outputs": [],
   "source": [
    "#compile the model\n",
    "model.compile(loss='categorical_crossentropy',optimizer='adam')"
   ]
  },
  {
   "cell_type": "code",
   "execution_count": 17,
   "metadata": {},
   "outputs": [],
   "source": [
    "#saving weights\n",
    "filepath=\"model_weights_saved.hdf5\"\n",
    "checkpoint=ModelCheckpoint(filepath, monitor='loss', verbose=1, save_best_only=True, mode='min')\n",
    "desired_callbacks=[checkpoint]"
   ]
  },
  {
   "cell_type": "code",
   "execution_count": 30,
   "metadata": {},
   "outputs": [
    {
     "name": "stdout",
     "output_type": "stream",
     "text": [
      "Epoch 1/10\n",
      "220750/220750 [==============================] - 502s 2ms/step - loss: 2.7932\n",
      "\n",
      "Epoch 00001: loss improved from 2.83619 to 2.79319, saving model to model_weights_saved.hdf5\n",
      "Epoch 2/10\n",
      "220750/220750 [==============================] - 498s 2ms/step - loss: 2.7368\n",
      "\n",
      "Epoch 00002: loss improved from 2.79319 to 2.73680, saving model to model_weights_saved.hdf5\n",
      "Epoch 3/10\n",
      "220750/220750 [==============================] - 498s 2ms/step - loss: 2.6746\n",
      "\n",
      "Epoch 00003: loss improved from 2.73680 to 2.67460, saving model to model_weights_saved.hdf5\n",
      "Epoch 4/10\n",
      "220750/220750 [==============================] - 497s 2ms/step - loss: 2.6130\n",
      "\n",
      "Epoch 00004: loss improved from 2.67460 to 2.61300, saving model to model_weights_saved.hdf5\n",
      "Epoch 5/10\n",
      "220750/220750 [==============================] - 495s 2ms/step - loss: 2.5566\n",
      "\n",
      "Epoch 00005: loss improved from 2.61300 to 2.55661, saving model to model_weights_saved.hdf5\n",
      "Epoch 6/10\n",
      "220750/220750 [==============================] - 499s 2ms/step - loss: 2.5075\n",
      "\n",
      "Epoch 00006: loss improved from 2.55661 to 2.50755, saving model to model_weights_saved.hdf5\n",
      "Epoch 7/10\n",
      "220750/220750 [==============================] - 498s 2ms/step - loss: 2.4634\n",
      "\n",
      "Epoch 00007: loss improved from 2.50755 to 2.46342, saving model to model_weights_saved.hdf5\n",
      "Epoch 8/10\n",
      "220750/220750 [==============================] - 500s 2ms/step - loss: 2.4270\n",
      "\n",
      "Epoch 00008: loss improved from 2.46342 to 2.42697, saving model to model_weights_saved.hdf5\n",
      "Epoch 9/10\n",
      "220750/220750 [==============================] - 500s 2ms/step - loss: 2.3942\n",
      "\n",
      "Epoch 00009: loss improved from 2.42697 to 2.39416, saving model to model_weights_saved.hdf5\n",
      "Epoch 10/10\n",
      "220750/220750 [==============================] - 498s 2ms/step - loss: 2.3614\n",
      "\n",
      "Epoch 00010: loss improved from 2.39416 to 2.36144, saving model to model_weights_saved.hdf5\n"
     ]
    },
    {
     "data": {
      "text/plain": [
       "<keras.callbacks.History at 0x7f09dc060550>"
      ]
     },
     "execution_count": 30,
     "metadata": {},
     "output_type": "execute_result"
    }
   ],
   "source": [
    "#fit the model and train\n",
    "model.fit(X,y, epochs=10,batch_size=256,callbacks=desired_callbacks)"
   ]
  },
  {
   "cell_type": "code",
   "execution_count": 32,
   "metadata": {},
   "outputs": [],
   "source": [
    "#recompile model with saved weights\n",
    "filename=\"model_weights_saved.hdf5\"\n",
    "model.load_weights(filename)\n",
    "model.compile(loss='categorical_crossentropy',optimizer='adam')"
   ]
  },
  {
   "cell_type": "code",
   "execution_count": 33,
   "metadata": {},
   "outputs": [],
   "source": [
    "#output of model back to chars\n",
    "n_to_c=dict((i,c) for i,c in enumerate(chars))"
   ]
  },
  {
   "cell_type": "code",
   "execution_count": 34,
   "metadata": {},
   "outputs": [
    {
     "name": "stdout",
     "output_type": "stream",
     "text": [
      "Random seed: \n",
      "\" edadvancedreadingthousandnamelessevilsmadetremblealthoughunabledefineremainedtwodayslausannepainfuls \"\n"
     ]
    }
   ],
   "source": [
    "#random seed to help generate\n",
    "start=np.random.randint(0,len(x_data)-1)\n",
    "pattern=x_data[start]\n",
    "print(\"Random seed: \")\n",
    "print(\"\\\"\", ''.join([n_to_c[value] for value in pattern]),\"\\\"\")"
   ]
  },
  {
   "cell_type": "code",
   "execution_count": 35,
   "metadata": {},
   "outputs": [
    {
     "name": "stdout",
     "output_type": "stream",
     "text": [
      "alessedtertedsertedsestrnedseatedaredtertedsertedsestrnedseatedaredtertedsertedsestrnedseatedaredtertedsertedsestrnedseatedaredtertedsertedsestrnedseatedaredtertedsertedsestrnedseatedaredtertedsertedsestrnedseatedaredtertedsertedsestrnedseatedaredtertedsertedsestrnedseatedaredtertedsertedsestrnedseatedaredtertedsertedsestrnedseatedaredtertedsertedsestrnedseatedaredtertedsertedsestrnedseatedaredtertedsertedsestrnedseatedaredtertedsertedsestrnedseatedaredtertedsertedsestrnedseatedaredtertedsertedsestrnedseatedaredtertedsertedsestrnedseatedaredtertedsertedsestrnedseatedaredtertedsertedsestrnedseatedaredtertedsertedsestrnedseatedaredtertedsertedsestrnedseatedaredtertedsertedsestrnedseatedaredtertedsertedsestrnedseatedaredtertedsertedsestrnedseatedaredtertedsertedsestrnedseatedaredtertedsertedsestrnedseatedaredtertedsertedsestrnedseatedaredtertedsertedsestrnedseatedaredtertedsertedsestrnedseatedaredtertedsertedsestrnedseatedaredtertedsertedsestrnedseatedaredtertedsertedsestrnedseatedaredter"
     ]
    }
   ],
   "source": [
    "#generate the text\n",
    "for i in range(1000):\n",
    "    x=np.reshape(pattern, (1,len(pattern),1))\n",
    "    x=x/float(vocab_len)\n",
    "    pred=model.predict(x,verbose=0)\n",
    "    index=np.argmax(pred)\n",
    "    result=n_to_c[index]\n",
    "    seq_in=[n_to_c[value] for value in pattern]\n",
    "    sys.stdout.write(result)\n",
    "    pattern.append(index)\n",
    "    pattern=pattern[1:len(pattern)]\n"
   ]
  },
  {
   "cell_type": "code",
   "execution_count": null,
   "metadata": {},
   "outputs": [],
   "source": []
  }
 ],
 "metadata": {
  "kernelspec": {
   "display_name": "Python 3",
   "language": "python",
   "name": "python3"
  },
  "language_info": {
   "codemirror_mode": {
    "name": "ipython",
    "version": 3
   },
   "file_extension": ".py",
   "mimetype": "text/x-python",
   "name": "python",
   "nbconvert_exporter": "python",
   "pygments_lexer": "ipython3",
   "version": "3.7.3"
  }
 },
 "nbformat": 4,
 "nbformat_minor": 2
}
